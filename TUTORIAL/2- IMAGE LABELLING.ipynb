{
 "cells": [
  {
   "cell_type": "markdown",
   "id": "450c6c80",
   "metadata": {},
   "source": [
    "## 1- Data Gathering"
   ]
  },
  {
   "cell_type": "markdown",
   "id": "d0f5dfc3",
   "metadata": {},
   "source": [
    "Put all your images into <code>darkflow\\train\\Images</code> folder"
   ]
  },
  {
   "cell_type": "markdown",
   "id": "97e6aeef",
   "metadata": {},
   "source": [
    "Make all images square, .jpg, up to <code>416x416</code> pixels with <code>Photoshop</code> and [iloveimg.com](https://www.iloveimg.com/)"
   ]
  },
  {
   "cell_type": "markdown",
   "id": "4634dd29",
   "metadata": {},
   "source": [
    "Run <code>labelImg.py</code> on <code>darkflow\\labelImg</code> folder"
   ]
  },
  {
   "cell_type": "markdown",
   "id": "e6027e9f",
   "metadata": {},
   "source": [
    "## 2- Image labelling"
   ]
  },
  {
   "cell_type": "markdown",
   "id": "72eb3858",
   "metadata": {},
   "source": [
    "With labelImg Open:\n",
    "<br>\n",
    "<br>- Go to view > Enable Auto Save Mode\n",
    "<br>- Set 'Save Dir' to <code>darkflow\\train\\Images</code> folder\n",
    "<br>- Open Dir (Same Path)\n",
    "<br>- Start Labeling\n",
    "<br>- Short Cuts:\n",
    "<br>- W - Draw Label\n",
    "<br>- A - Next Image\n",
    "<br>- D - Previous Image"
   ]
  },
  {
   "cell_type": "markdown",
   "id": "18df4613",
   "metadata": {},
   "source": [
    "## 3- Move .xml files"
   ]
  },
  {
   "cell_type": "markdown",
   "id": "cc78fc99",
   "metadata": {},
   "source": [
    "Move the </code>.xlm</code> files from <code>darkflow\\train\\Images</code> to <code>darkflow\\train\\annotation</code>"
   ]
  },
  {
   "cell_type": "markdown",
   "id": "a77be042",
   "metadata": {},
   "source": [
    "## 4- (Optional) Update Annotation's path to the Image file"
   ]
  },
  {
   "cell_type": "markdown",
   "id": "b2d96896",
   "metadata": {},
   "source": [
    "If you are using images from a database (like RoboFlow or Kaggle) you will notice that, opening the Annotation with text editor like Notepad, the Annotation's path to the Image file is not correct.\n",
    "\n",
    "Example:\n",
    "\n",
    "It is this:\n",
    "<br><code>\\<path>0_ELAADEN_CACHE_FLOW.jpg\\</path></code>\n",
    "\n",
    "When it should be this:\n",
    "<br><code>\\<path>D:\\Flutter\\YOLO_V2\\darkflow\\train\\Images\\0_ELAADEN_CACHE_FLOW.jpg\\</path></code>\n",
    "\n",
    "To update the Annotation to your liking edit the <code>darkflow\\update_annotation.py</code> script and run on <code>tensor_yolo_1.15</code> environment <code>conda activate tensor_yolo_1.15</code> and then <code>python PATH_TO_THE_SCRIPT</code>"
   ]
  },
  {
   "cell_type": "markdown",
   "id": "e0b39d22",
   "metadata": {},
   "source": [
    "## Go to next tutorial section."
   ]
  }
 ],
 "metadata": {
  "kernelspec": {
   "display_name": "TF2_7_Env",
   "language": "python",
   "name": "tf2_7_env"
  },
  "language_info": {
   "codemirror_mode": {
    "name": "ipython",
    "version": 3
   },
   "file_extension": ".py",
   "mimetype": "text/x-python",
   "name": "python",
   "nbconvert_exporter": "python",
   "pygments_lexer": "ipython3",
   "version": "3.9.0"
  }
 },
 "nbformat": 4,
 "nbformat_minor": 5
}
